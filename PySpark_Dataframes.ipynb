{
 "cells": [
  {
   "cell_type": "markdown",
   "metadata": {},
   "source": [
    "# PySpark on Mac"
   ]
  },
  {
   "cell_type": "code",
   "execution_count": 1,
   "metadata": {},
   "outputs": [],
   "source": [
    "# import SparkContext\n",
    "from pyspark import SparkContext"
   ]
  },
  {
   "cell_type": "code",
   "execution_count": 2,
   "metadata": {},
   "outputs": [],
   "source": [
    "sc_dataframe = SparkSession.builder.appName(\"pysparkDataframes\").getOrCreate()"
   ]
  },
  {
   "cell_type": "code",
   "execution_count": 3,
   "metadata": {},
   "outputs": [],
   "source": [
    "dfStorm2019 = sc_dataframe.read.format('csv')\\\n",
    "                .option('header', 'true')\\\n",
    "                .option('delimiter', ',')\\\n",
    "                .option('inferSchema', 'true')\\\n",
    "                .load('../pyspark/data/StormEvents_details-ftp_v1.0_d2019_c20200317.csv.gz')"
   ]
  },
  {
   "cell_type": "code",
   "execution_count": 4,
   "metadata": {},
   "outputs": [
    {
     "name": "stdout",
     "output_type": "stream",
     "text": [
      "+---------------+---------+----------+-------------+-------+--------+----------+--------+--------------+----------+----+----------+--------------------+-------+-------+--------------------+---+------------------+-----------+------------------+---------------+-----------------+-------------+---------------+---------------+------------+--------------------+---------+--------------+-----------+--------+-----------+----------+---------+-------------+------------------+-----------------+-----------------+-----------+-------------+----------------+---------+-----------+----------------+---------+---------+-------+--------+--------------------+--------------------+-----------+\n",
      "|BEGIN_YEARMONTH|BEGIN_DAY|BEGIN_TIME|END_YEARMONTH|END_DAY|END_TIME|EPISODE_ID|EVENT_ID|         STATE|STATE_FIPS|YEAR|MONTH_NAME|          EVENT_TYPE|CZ_TYPE|CZ_FIPS|             CZ_NAME|WFO|   BEGIN_DATE_TIME|CZ_TIMEZONE|     END_DATE_TIME|INJURIES_DIRECT|INJURIES_INDIRECT|DEATHS_DIRECT|DEATHS_INDIRECT|DAMAGE_PROPERTY|DAMAGE_CROPS|              SOURCE|MAGNITUDE|MAGNITUDE_TYPE|FLOOD_CAUSE|CATEGORY|TOR_F_SCALE|TOR_LENGTH|TOR_WIDTH|TOR_OTHER_WFO|TOR_OTHER_CZ_STATE|TOR_OTHER_CZ_FIPS|TOR_OTHER_CZ_NAME|BEGIN_RANGE|BEGIN_AZIMUTH|  BEGIN_LOCATION|END_RANGE|END_AZIMUTH|    END_LOCATION|BEGIN_LAT|BEGIN_LON|END_LAT| END_LON|   EPISODE_NARRATIVE|     EVENT_NARRATIVE|DATA_SOURCE|\n",
      "+---------------+---------+----------+-------------+-------+--------+----------+--------+--------------+----------+----+----------+--------------------+-------+-------+--------------------+---+------------------+-----------+------------------+---------------+-----------------+-------------+---------------+---------------+------------+--------------------+---------+--------------+-----------+--------+-----------+----------+---------+-------------+------------------+-----------------+-----------------+-----------+-------------+----------------+---------+-----------+----------------+---------+---------+-------+--------+--------------------+--------------------+-----------+\n",
      "|         201905|        9|      1554|       201905|      9|    1830|    137295|  824116|         TEXAS|        48|2019|       May|         Flash Flood|      C|     29|               BEXAR|EWX|09-MAY-19 15:54:00|      CST-6|09-MAY-19 18:30:00|              0|                0|            0|              0|          0.00K|       0.00K|     Law Enforcement|     null|          null| Heavy Rain|    null|       null|      null|     null|         null|              null|             null|             null|          8|            N|       LEON SPGS|        7|        NNE|    SAN GERONIMO|  29.7898| -98.6406|29.7158|-98.7744|Thunderstorms dev...|Thunderstorms pro...|        CSV|\n",
      "|         201907|       15|      1640|       201907|     15|    1641|    140217|  843354|     MINNESOTA|        27|2019|      July|   Thunderstorm Wind|      C|    115|                PINE|DLH|15-JUL-19 16:40:00|      CST-6|15-JUL-19 16:41:00|              0|                0|            0|              0|          0.00K|       0.00K|     Trained Spotter|     50.0|            EG|       null|    null|       null|      null|     null|         null|              null|             null|             null|          5|            E|      ROCK CREEK|        5|          E|      ROCK CREEK|    45.77|   -92.87|  45.77|  -92.87|An area of low pr...|A 14-inch tree fe...|        CSV|\n",
      "|         201910|       20|      2223|       201910|     20|    2223|    142648|  861581|         TEXAS|        48|2019|   October|   Thunderstorm Wind|      C|    467|           VAN ZANDT|FWD|20-OCT-19 22:23:00|      CST-6|20-OCT-19 22:23:00|              0|                0|            0|              0|          0.00K|       0.00K|     Trained Spotter|     58.0|            MG|       null|    null|       null|      null|     null|         null|              null|             null|             null|          1|            N|        EDGEWOOD|        1|          N|        EDGEWOOD|    32.71|   -95.88|  32.71|  -95.88|Thunderstorms eru...|A trained spotter...|        CSV|\n",
      "|         201910|       20|      2312|       201910|     20|    2312|    142648|  861584|         TEXAS|        48|2019|   October|   Thunderstorm Wind|      C|    439|             TARRANT|FWD|20-OCT-19 23:12:00|      CST-6|20-OCT-19 23:12:00|              0|                0|            0|              0|          0.00K|       0.00K|     Law Enforcement|     56.0|            MG|       null|    null|       null|      null|     null|         null|              null|             null|             null|          5|          WSW|            AZLE|        5|        WSW|            AZLE|    32.87|   -97.61|  32.87|  -97.61|Thunderstorms eru...|The local police ...|        CSV|\n",
      "|         201910|       20|      2236|       201910|     20|    2236|    142648|  861582|         TEXAS|        48|2019|   October|   Thunderstorm Wind|      C|    363|          PALO PINTO|FWD|20-OCT-19 22:36:00|      CST-6|20-OCT-19 22:36:00|              0|                0|            0|              0|          0.00K|       0.00K|                ASOS|     65.0|            MG|       null|    null|       null|      null|     null|         null|              null|             null|             null|          0|            N|   MINERAL WELLS|        0|          N|   MINERAL WELLS|     32.8|    -98.1|   32.8|   -98.1|Thunderstorms eru...|A wind gust of 75...|        CSV|\n",
      "|         201910|       20|      2048|       201910|     20|    2054|    142648|  856504|         TEXAS|        48|2019|   October|             Tornado|      C|    397|            ROCKWALL|FWD|20-OCT-19 20:48:00|      CST-6|20-OCT-19 20:54:00|              0|                0|            0|              0|         10.00M|       0.00K|    NWS Storm Survey|     null|          null|       null|    null|        EF1|      1.96|    150.0|         null|              null|             null|             null|          2|            W|        ROCKWALL|        1|        NNW|        ROCKWALL|  32.9312| -96.4864|32.9393|-96.4545|Thunderstorms eru...|Tornadic wind dam...|        CSV|\n",
      "|         201909|        4|      1229|       201909|      4|    1229|    141212|  848333|       VERMONT|        50|2019| September|                Hail|      C|     27|             WINDSOR|BTV|04-SEP-19 12:29:00|      EST-5|04-SEP-19 12:29:00|              0|                0|            0|              0|          0.00K|       0.00K|              Public|      1.0|          null|       null|    null|       null|      null|     null|         null|              null|             null|             null|          1|            W|          LUDLOW|        1|          W|          LUDLOW|     43.4|   -72.72|   43.4|  -72.72|A strong mid-leve...|Quarter size hail...|        CSV|\n",
      "|         201909|       26|      1554|       201909|     26|    1554|    141215|  848338|      NEW YORK|        36|2019| September|   Thunderstorm Wind|      C|     89|        ST. LAWRENCE|BTV|26-SEP-19 15:54:00|      EST-5|26-SEP-19 15:54:00|              0|                0|            0|              0|          5.00K|       0.00K|     Utility Company|     50.0|            EG|       null|    null|       null|      null|     null|         null|              null|             null|             null|          5|           SW|          MADRID|        5|         SW|          MADRID|  44.6988|  -75.222|44.6988| -75.222|A strong mid-leve...|A few trees and p...|        CSV|\n",
      "|         201909|       13|      1838|       201909|     13|    1838|    140688|  845760|ATLANTIC SOUTH|        87|2019| September|Marine Thundersto...|      Z|    552|VOLUSIA-BREVARD C...|MLB|13-SEP-19 18:38:00|      EST-5|13-SEP-19 18:38:00|              0|                0|            0|              0|          0.00K|       0.00K|             Mesonet|     36.0|            MG|       null|    null|       null|      null|     null|         null|              null|             null|             null|          1|            S|  CAPE CANAVERAL|        1|          S|  CAPE CANAVERAL|    28.37|    -80.6|  28.37|   -80.6|Fast moving showe...|Weatherflow site ...|        CSV|\n",
      "|         201909|       13|      1915|       201909|     13|    1915|    140688|  845762|ATLANTIC SOUTH|        87|2019| September|Marine Thundersto...|      Z|    552|VOLUSIA-BREVARD C...|MLB|13-SEP-19 19:15:00|      EST-5|13-SEP-19 19:15:00|              0|                0|            0|              0|          0.00K|       0.00K|Other Federal Agency|     36.0|            MG|       null|    null|       null|      null|     null|         null|              null|             null|             null|          9|           NE|PLAYALINDA BEACH|        9|         NE|PLAYALINDA BEACH|    28.63|   -80.66|  28.63|  -80.66|Fast moving showe...|US Air Force wind...|        CSV|\n",
      "+---------------+---------+----------+-------------+-------+--------+----------+--------+--------------+----------+----+----------+--------------------+-------+-------+--------------------+---+------------------+-----------+------------------+---------------+-----------------+-------------+---------------+---------------+------------+--------------------+---------+--------------+-----------+--------+-----------+----------+---------+-------------+------------------+-----------------+-----------------+-----------+-------------+----------------+---------+-----------+----------------+---------+---------+-------+--------+--------------------+--------------------+-----------+\n",
      "only showing top 10 rows\n",
      "\n"
     ]
    }
   ],
   "source": [
    "dfStorm2019.show(10)"
   ]
  },
  {
   "cell_type": "code",
   "execution_count": 5,
   "metadata": {},
   "outputs": [
    {
     "data": {
      "text/plain": [
       "67337"
      ]
     },
     "execution_count": 5,
     "metadata": {},
     "output_type": "execute_result"
    }
   ],
   "source": [
    "dfStorm2019.count()"
   ]
  },
  {
   "cell_type": "markdown",
   "metadata": {},
   "source": [
    "Checking duplicates rows:"
   ]
  },
  {
   "cell_type": "code",
   "execution_count": 6,
   "metadata": {},
   "outputs": [],
   "source": [
    "assert dfStorm2019.count() == dfStorm2019.distinct().count()"
   ]
  },
  {
   "cell_type": "markdown",
   "metadata": {},
   "source": [
    "Displaying schema:"
   ]
  },
  {
   "cell_type": "code",
   "execution_count": 7,
   "metadata": {},
   "outputs": [
    {
     "name": "stdout",
     "output_type": "stream",
     "text": [
      "root\n",
      " |-- BEGIN_YEARMONTH: integer (nullable = true)\n",
      " |-- BEGIN_DAY: integer (nullable = true)\n",
      " |-- BEGIN_TIME: integer (nullable = true)\n",
      " |-- END_YEARMONTH: integer (nullable = true)\n",
      " |-- END_DAY: integer (nullable = true)\n",
      " |-- END_TIME: integer (nullable = true)\n",
      " |-- EPISODE_ID: integer (nullable = true)\n",
      " |-- EVENT_ID: integer (nullable = true)\n",
      " |-- STATE: string (nullable = true)\n",
      " |-- STATE_FIPS: integer (nullable = true)\n",
      " |-- YEAR: integer (nullable = true)\n",
      " |-- MONTH_NAME: string (nullable = true)\n",
      " |-- EVENT_TYPE: string (nullable = true)\n",
      " |-- CZ_TYPE: string (nullable = true)\n",
      " |-- CZ_FIPS: integer (nullable = true)\n",
      " |-- CZ_NAME: string (nullable = true)\n",
      " |-- WFO: string (nullable = true)\n",
      " |-- BEGIN_DATE_TIME: string (nullable = true)\n",
      " |-- CZ_TIMEZONE: string (nullable = true)\n",
      " |-- END_DATE_TIME: string (nullable = true)\n",
      " |-- INJURIES_DIRECT: integer (nullable = true)\n",
      " |-- INJURIES_INDIRECT: integer (nullable = true)\n",
      " |-- DEATHS_DIRECT: integer (nullable = true)\n",
      " |-- DEATHS_INDIRECT: integer (nullable = true)\n",
      " |-- DAMAGE_PROPERTY: string (nullable = true)\n",
      " |-- DAMAGE_CROPS: string (nullable = true)\n",
      " |-- SOURCE: string (nullable = true)\n",
      " |-- MAGNITUDE: double (nullable = true)\n",
      " |-- MAGNITUDE_TYPE: string (nullable = true)\n",
      " |-- FLOOD_CAUSE: string (nullable = true)\n",
      " |-- CATEGORY: integer (nullable = true)\n",
      " |-- TOR_F_SCALE: string (nullable = true)\n",
      " |-- TOR_LENGTH: double (nullable = true)\n",
      " |-- TOR_WIDTH: double (nullable = true)\n",
      " |-- TOR_OTHER_WFO: string (nullable = true)\n",
      " |-- TOR_OTHER_CZ_STATE: string (nullable = true)\n",
      " |-- TOR_OTHER_CZ_FIPS: integer (nullable = true)\n",
      " |-- TOR_OTHER_CZ_NAME: string (nullable = true)\n",
      " |-- BEGIN_RANGE: integer (nullable = true)\n",
      " |-- BEGIN_AZIMUTH: string (nullable = true)\n",
      " |-- BEGIN_LOCATION: string (nullable = true)\n",
      " |-- END_RANGE: integer (nullable = true)\n",
      " |-- END_AZIMUTH: string (nullable = true)\n",
      " |-- END_LOCATION: string (nullable = true)\n",
      " |-- BEGIN_LAT: double (nullable = true)\n",
      " |-- BEGIN_LON: double (nullable = true)\n",
      " |-- END_LAT: double (nullable = true)\n",
      " |-- END_LON: double (nullable = true)\n",
      " |-- EPISODE_NARRATIVE: string (nullable = true)\n",
      " |-- EVENT_NARRATIVE: string (nullable = true)\n",
      " |-- DATA_SOURCE: string (nullable = true)\n",
      "\n"
     ]
    }
   ],
   "source": [
    "dfStorm2019.printSchema()"
   ]
  },
  {
   "cell_type": "code",
   "execution_count": 8,
   "metadata": {},
   "outputs": [
    {
     "name": "stdout",
     "output_type": "stream",
     "text": [
      "+---------------+---------+----------+-------------+-------+--------+----------+--------+-----+----------+----+----------+-----------------+-------+-------+----------+---+------------------+-----------+------------------+---------------+-----------------+-------------+---------------+---------------+------------+--------------------+---------+--------------+-----------+--------+-----------+----------+---------+-------------+------------------+-----------------+-----------------+-----------+-------------+--------------+---------+-----------+-------------+---------+---------+-------+--------+--------------------+--------------------+-----------+\n",
      "|BEGIN_YEARMONTH|BEGIN_DAY|BEGIN_TIME|END_YEARMONTH|END_DAY|END_TIME|EPISODE_ID|EVENT_ID|STATE|STATE_FIPS|YEAR|MONTH_NAME|       EVENT_TYPE|CZ_TYPE|CZ_FIPS|   CZ_NAME|WFO|   BEGIN_DATE_TIME|CZ_TIMEZONE|     END_DATE_TIME|INJURIES_DIRECT|INJURIES_INDIRECT|DEATHS_DIRECT|DEATHS_INDIRECT|DAMAGE_PROPERTY|DAMAGE_CROPS|              SOURCE|MAGNITUDE|MAGNITUDE_TYPE|FLOOD_CAUSE|CATEGORY|TOR_F_SCALE|TOR_LENGTH|TOR_WIDTH|TOR_OTHER_WFO|TOR_OTHER_CZ_STATE|TOR_OTHER_CZ_FIPS|TOR_OTHER_CZ_NAME|BEGIN_RANGE|BEGIN_AZIMUTH|BEGIN_LOCATION|END_RANGE|END_AZIMUTH| END_LOCATION|BEGIN_LAT|BEGIN_LON|END_LAT| END_LON|   EPISODE_NARRATIVE|     EVENT_NARRATIVE|DATA_SOURCE|\n",
      "+---------------+---------+----------+-------------+-------+--------+----------+--------+-----+----------+----+----------+-----------------+-------+-------+----------+---+------------------+-----------+------------------+---------------+-----------------+-------------+---------------+---------------+------------+--------------------+---------+--------------+-----------+--------+-----------+----------+---------+-------------+------------------+-----------------+-----------------+-----------+-------------+--------------+---------+-----------+-------------+---------+---------+-------+--------+--------------------+--------------------+-----------+\n",
      "|         201905|        9|      1554|       201905|      9|    1830|    137295|  824116|TEXAS|        48|2019|       May|      Flash Flood|      C|     29|     BEXAR|EWX|09-MAY-19 15:54:00|      CST-6|09-MAY-19 18:30:00|              0|                0|            0|              0|          0.00K|       0.00K|     Law Enforcement|     null|          null| Heavy Rain|    null|       null|      null|     null|         null|              null|             null|             null|          8|            N|     LEON SPGS|        7|        NNE| SAN GERONIMO|  29.7898| -98.6406|29.7158|-98.7744|Thunderstorms dev...|Thunderstorms pro...|        CSV|\n",
      "|         201910|       20|      2223|       201910|     20|    2223|    142648|  861581|TEXAS|        48|2019|   October|Thunderstorm Wind|      C|    467| VAN ZANDT|FWD|20-OCT-19 22:23:00|      CST-6|20-OCT-19 22:23:00|              0|                0|            0|              0|          0.00K|       0.00K|     Trained Spotter|     58.0|            MG|       null|    null|       null|      null|     null|         null|              null|             null|             null|          1|            N|      EDGEWOOD|        1|          N|     EDGEWOOD|    32.71|   -95.88|  32.71|  -95.88|Thunderstorms eru...|A trained spotter...|        CSV|\n",
      "|         201910|       20|      2312|       201910|     20|    2312|    142648|  861584|TEXAS|        48|2019|   October|Thunderstorm Wind|      C|    439|   TARRANT|FWD|20-OCT-19 23:12:00|      CST-6|20-OCT-19 23:12:00|              0|                0|            0|              0|          0.00K|       0.00K|     Law Enforcement|     56.0|            MG|       null|    null|       null|      null|     null|         null|              null|             null|             null|          5|          WSW|          AZLE|        5|        WSW|         AZLE|    32.87|   -97.61|  32.87|  -97.61|Thunderstorms eru...|The local police ...|        CSV|\n",
      "|         201910|       20|      2236|       201910|     20|    2236|    142648|  861582|TEXAS|        48|2019|   October|Thunderstorm Wind|      C|    363|PALO PINTO|FWD|20-OCT-19 22:36:00|      CST-6|20-OCT-19 22:36:00|              0|                0|            0|              0|          0.00K|       0.00K|                ASOS|     65.0|            MG|       null|    null|       null|      null|     null|         null|              null|             null|             null|          0|            N| MINERAL WELLS|        0|          N|MINERAL WELLS|     32.8|    -98.1|   32.8|   -98.1|Thunderstorms eru...|A wind gust of 75...|        CSV|\n",
      "|         201910|       20|      2048|       201910|     20|    2054|    142648|  856504|TEXAS|        48|2019|   October|          Tornado|      C|    397|  ROCKWALL|FWD|20-OCT-19 20:48:00|      CST-6|20-OCT-19 20:54:00|              0|                0|            0|              0|         10.00M|       0.00K|    NWS Storm Survey|     null|          null|       null|    null|        EF1|      1.96|    150.0|         null|              null|             null|             null|          2|            W|      ROCKWALL|        1|        NNW|     ROCKWALL|  32.9312| -96.4864|32.9393|-96.4545|Thunderstorms eru...|Tornadic wind dam...|        CSV|\n",
      "|         201905|       23|      2230|       201905|     23|    2230|    137864|  828397|TEXAS|        48|2019|       May|             Hail|      C|    211|  HEMPHILL|AMA|23-MAY-19 22:30:00|      CST-6|23-MAY-19 22:30:00|              0|                0|            0|              0|          0.00K|       0.00K|     Trained Spotter|      1.0|          null|       null|    null|       null|      null|     null|         null|              null|             null|             null|          2|          WNW|       GLAZIER|        2|        WNW|      GLAZIER|    36.01|  -100.26|  36.01| -100.26|A vigorous upper ...|                null|        CSV|\n",
      "|         201910|       21|       130|       201910|     21|     130|    142648|  861579|TEXAS|        48|2019|   October|Thunderstorm Wind|      C|    349|   NAVARRO|FWD|21-OCT-19 01:30:00|      CST-6|21-OCT-19 01:30:00|              0|                0|            0|              0|         10.00K|       0.00K|              Public|     55.0|            EG|       null|    null|       null|      null|     null|         null|              null|             null|             null|          0|            N|        KERENS|        0|          N|       KERENS|    32.13|   -96.23|  32.13|  -96.23|Thunderstorms eru...|A public report i...|        CSV|\n",
      "|         201910|       20|      2336|       201910|     20|    2336|    142648|  861587|TEXAS|        48|2019|   October|Thunderstorm Wind|      C|    439|   TARRANT|FWD|20-OCT-19 23:36:00|      CST-6|20-OCT-19 23:36:00|              0|                0|            0|              0|          0.00K|       0.00K|                ASOS|     54.0|            MG|       null|    null|       null|      null|     null|         null|              null|             null|             null|          1|            E|    RIVER OAKS|        1|          E|   RIVER OAKS|    32.78|   -97.38|  32.78|  -97.38|Thunderstorms eru...|A 62 MPH wind gus...|        CSV|\n",
      "|         201910|       20|      2338|       201910|     20|    2338|    142648|  861588|TEXAS|        48|2019|   October|Thunderstorm Wind|      C|    439|   TARRANT|FWD|20-OCT-19 23:38:00|      CST-6|20-OCT-19 23:38:00|              0|                0|            0|              0|          0.00K|       0.00K|Official NWS Obse...|     55.0|            MG|       null|    null|       null|      null|     null|         null|              null|             null|             null|          0|            N|   HALTOM CITY|        0|          N|  HALTOM CITY|     32.8|   -97.27|   32.8|  -97.27|Thunderstorms eru...|A 63 MPH wind gus...|        CSV|\n",
      "|         201910|       20|      2340|       201910|     20|    2340|    142648|  861589|TEXAS|        48|2019|   October|Thunderstorm Wind|      C|    439|   TARRANT|FWD|20-OCT-19 23:40:00|      CST-6|20-OCT-19 23:40:00|              0|                0|            0|              0|          0.00K|       0.00K|                ASOS|     54.0|            MG|       null|    null|       null|      null|     null|         null|              null|             null|             null|          1|           SE|         HODGE|        1|         SE|        HODGE|    32.79|   -97.34|  32.79|  -97.34|Thunderstorms eru...|A 62 MPH wind gus...|        CSV|\n",
      "+---------------+---------+----------+-------------+-------+--------+----------+--------+-----+----------+----+----------+-----------------+-------+-------+----------+---+------------------+-----------+------------------+---------------+-----------------+-------------+---------------+---------------+------------+--------------------+---------+--------------+-----------+--------+-----------+----------+---------+-------------+------------------+-----------------+-----------------+-----------+-------------+--------------+---------+-----------+-------------+---------+---------+-------+--------+--------------------+--------------------+-----------+\n",
      "only showing top 10 rows\n",
      "\n"
     ]
    }
   ],
   "source": [
    "dfStorm2019.filter(dfStorm2019.STATE == 'TEXAS').show(10)"
   ]
  },
  {
   "cell_type": "code",
   "execution_count": 9,
   "metadata": {},
   "outputs": [],
   "source": [
    "#dfStorm2019.describe().show()"
   ]
  },
  {
   "cell_type": "code",
   "execution_count": 10,
   "metadata": {},
   "outputs": [
    {
     "name": "stdout",
     "output_type": "stream",
     "text": [
      "+--------------------+-----+\n",
      "|               STATE|count|\n",
      "+--------------------+-----+\n",
      "|               TEXAS| 4338|\n",
      "|           MINNESOTA| 2126|\n",
      "|             VERMONT|  317|\n",
      "|            NEW YORK| 2514|\n",
      "|      ATLANTIC SOUTH|  519|\n",
      "|             FLORIDA|  939|\n",
      "|       WEST VIRGINIA|  967|\n",
      "|            ARKANSAS| 1148|\n",
      "|      GULF OF MEXICO|  907|\n",
      "|             MONTANA| 1286|\n",
      "|            MISSOURI| 2159|\n",
      "|             GEORGIA| 1158|\n",
      "|         CONNECTICUT|  240|\n",
      "|             ALABAMA| 1116|\n",
      "|                OHIO| 2279|\n",
      "|       MASSACHUSETTS|  860|\n",
      "|        RHODE ISLAND|   92|\n",
      "|              KANSAS| 2672|\n",
      "|                IOWA| 2276|\n",
      "|            VIRGINIA| 2398|\n",
      "|              ALASKA|  143|\n",
      "|      ATLANTIC NORTH| 1054|\n",
      "|            MARYLAND| 1208|\n",
      "|          CALIFORNIA| 2643|\n",
      "|        SOUTH DAKOTA| 2543|\n",
      "|      NORTH CAROLINA| 1448|\n",
      "|         MISSISSIPPI| 1140|\n",
      "|DISTRICT OF COLUMBIA|   52|\n",
      "|        NORTH DAKOTA| 1095|\n",
      "|            COLORADO| 1776|\n",
      "|            KENTUCKY| 1522|\n",
      "|              NEVADA|  313|\n",
      "|           TENNESSEE| 1157|\n",
      "|           WISCONSIN| 1573|\n",
      "|               MAINE|  320|\n",
      "|            NEBRASKA| 2088|\n",
      "|             WYOMING| 1106|\n",
      "|             INDIANA| 1447|\n",
      "|            ILLINOIS| 2084|\n",
      "|               IDAHO|  585|\n",
      "|          NEW JERSEY|  901|\n",
      "|              HAWAII|  687|\n",
      "|          NEW MEXICO|  860|\n",
      "|       LAKE MICHIGAN|  105|\n",
      "|       LAKE SUPERIOR|  102|\n",
      "|          LAKE HURON|   21|\n",
      "|            OKLAHOMA| 1801|\n",
      "|                UTAH|  335|\n",
      "|            MICHIGAN| 1067|\n",
      "|           LOUISIANA|  813|\n",
      "|        PENNSYLVANIA| 2395|\n",
      "|            DELAWARE|  136|\n",
      "|          WASHINGTON|  414|\n",
      "|      SOUTH CAROLINA|  826|\n",
      "|             ARIZONA|  516|\n",
      "|              OREGON|  290|\n",
      "|         PUERTO RICO|  155|\n",
      "|           LAKE ERIE|   77|\n",
      "|       NEW HAMPSHIRE|  129|\n",
      "|      AMERICAN SAMOA|   21|\n",
      "+--------------------+-----+\n",
      "only showing top 60 rows\n",
      "\n"
     ]
    }
   ],
   "source": [
    "dfStorm2019.groupBy('STATE').count().show(60)"
   ]
  },
  {
   "cell_type": "code",
   "execution_count": 11,
   "metadata": {},
   "outputs": [
    {
     "name": "stdout",
     "output_type": "stream",
     "text": [
      "+--------------------+-----+\n",
      "|          EVENT_TYPE|count|\n",
      "+--------------------+-----+\n",
      "|         Flash Flood| 4068|\n",
      "|   Thunderstorm Wind|18617|\n",
      "|             Tornado| 1727|\n",
      "|                Hail| 9013|\n",
      "|Marine Thundersto...| 2502|\n",
      "|         Rip Current|   72|\n",
      "|      Winter Weather| 3800|\n",
      "|          Waterspout|  183|\n",
      "|          Heavy Rain| 1416|\n",
      "|             Drought| 1007|\n",
      "|        Winter Storm| 3312|\n",
      "|               Flood| 4943|\n",
      "|           Lightning|  343|\n",
      "|            Blizzard|  852|\n",
      "|Extreme Cold/Wind...| 1065|\n",
      "|          Heavy Snow| 2844|\n",
      "|           High Wind| 3743|\n",
      "|        Funnel Cloud|  348|\n",
      "|       Coastal Flood|  240|\n",
      "|      Excessive Heat|  827|\n",
      "|                Heat| 1291|\n",
      "|         Marine Hail|   32|\n",
      "|     Cold/Wind Chill|  470|\n",
      "|         Strong Wind| 1590|\n",
      "|         Debris Flow|  184|\n",
      "|           Dense Fog|  652|\n",
      "|               Sleet|    1|\n",
      "|        Frost/Freeze|  654|\n",
      "|           Avalanche|   44|\n",
      "|           Hurricane|   10|\n",
      "|      Tropical Storm|  143|\n",
      "|           High Surf|  468|\n",
      "|            Wildfire|  180|\n",
      "|    Marine High Wind|   77|\n",
      "|           Ice Storm|  200|\n",
      "|Astronomical Low ...|   16|\n",
      "|          Dust Devil|    8|\n",
      "|    Lake-Effect Snow|   78|\n",
      "|        Freezing Fog|    6|\n",
      "|     Lakeshore Flood|  146|\n",
      "|          Dust Storm|   40|\n",
      "|         Sneakerwave|    3|\n",
      "|  Marine Strong Wind|   17|\n",
      "|Marine Tropical S...|   37|\n",
      "|         Dense Smoke|    2|\n",
      "|    Storm Surge/Tide|   25|\n",
      "| Tropical Depression|   26|\n",
      "|Marine Tropical D...|    4|\n",
      "|              Seiche|    4|\n",
      "|Marine Hurricane/...|    6|\n",
      "+--------------------+-----+\n",
      "only showing top 50 rows\n",
      "\n"
     ]
    }
   ],
   "source": [
    "dfStorm2019.groupBy('EVENT_TYPE').count().show(50)"
   ]
  },
  {
   "cell_type": "code",
   "execution_count": 12,
   "metadata": {},
   "outputs": [
    {
     "name": "stdout",
     "output_type": "stream",
     "text": [
      "+--------------+----------+-----+\n",
      "|         STATE|MONTH_NAME|count|\n",
      "+--------------+----------+-----+\n",
      "|       ALABAMA|  February|  104|\n",
      "|       ALABAMA|   October|   35|\n",
      "|       ALABAMA| September|   41|\n",
      "|       ALABAMA|       May|   73|\n",
      "|       ALABAMA|      June|  168|\n",
      "|       ALABAMA|   January|   32|\n",
      "|       ALABAMA|      July|   63|\n",
      "|       ALABAMA|    August|  126|\n",
      "|       ALABAMA|     March|  148|\n",
      "|       ALABAMA|  December|   92|\n",
      "|       ALABAMA|  November|   77|\n",
      "|       ALABAMA|     April|  157|\n",
      "|        ALASKA|     April|   12|\n",
      "|        ALASKA|   October|   19|\n",
      "|        ALASKA|      June|    4|\n",
      "|        ALASKA|     March|   17|\n",
      "|        ALASKA|  February|   14|\n",
      "|        ALASKA|   January|   10|\n",
      "|        ALASKA|      July|    2|\n",
      "|        ALASKA|       May|    2|\n",
      "|        ALASKA|    August|   11|\n",
      "|        ALASKA| September|    4|\n",
      "|        ALASKA|  December|   32|\n",
      "|        ALASKA|  November|   16|\n",
      "|AMERICAN SAMOA|       May|    2|\n",
      "|AMERICAN SAMOA| September|    3|\n",
      "|AMERICAN SAMOA|      July|    2|\n",
      "|AMERICAN SAMOA|   October|    2|\n",
      "|AMERICAN SAMOA|  December|    4|\n",
      "|AMERICAN SAMOA|      June|    4|\n",
      "|AMERICAN SAMOA|     March|    1|\n",
      "|AMERICAN SAMOA|    August|    2|\n",
      "|AMERICAN SAMOA|     April|    1|\n",
      "|       ARIZONA|     March|    9|\n",
      "|       ARIZONA|   January|   32|\n",
      "|       ARIZONA|     April|    6|\n",
      "|       ARIZONA|    August|   82|\n",
      "|       ARIZONA|  February|   72|\n",
      "|       ARIZONA|      June|    7|\n",
      "|       ARIZONA| September|  122|\n",
      "|       ARIZONA|  November|   87|\n",
      "|       ARIZONA|       May|    6|\n",
      "|       ARIZONA|      July|   64|\n",
      "|       ARIZONA|   October|    3|\n",
      "|       ARIZONA|  December|   26|\n",
      "|      ARKANSAS|     March|   70|\n",
      "|      ARKANSAS|     April|   89|\n",
      "|      ARKANSAS|   January|   46|\n",
      "|      ARKANSAS|       May|  220|\n",
      "|      ARKANSAS|  February|   60|\n",
      "+--------------+----------+-----+\n",
      "only showing top 50 rows\n",
      "\n"
     ]
    }
   ],
   "source": [
    "dfStorm2019.groupBy('STATE', 'MONTH_NAME').count().orderBy('STATE', ascending=True).show(50)"
   ]
  },
  {
   "cell_type": "code",
   "execution_count": 13,
   "metadata": {},
   "outputs": [
    {
     "name": "stdout",
     "output_type": "stream",
     "text": [
      "+------------------+\n",
      "|sum(DEATHS_DIRECT)|\n",
      "+------------------+\n",
      "|               390|\n",
      "+------------------+\n",
      "\n"
     ]
    }
   ],
   "source": [
    "dfStorm2019.agg({'DEATHS_DIRECT':'sum'}).show()"
   ]
  },
  {
   "cell_type": "code",
   "execution_count": 14,
   "metadata": {},
   "outputs": [
    {
     "name": "stdout",
     "output_type": "stream",
     "text": [
      "+--------------------+\n",
      "|sum(DEATHS_INDIRECT)|\n",
      "+--------------------+\n",
      "|                 160|\n",
      "+--------------------+\n",
      "\n"
     ]
    }
   ],
   "source": [
    "dfStorm2019.agg({'DEATHS_INDIRECT':'sum'}).show()"
   ]
  },
  {
   "cell_type": "code",
   "execution_count": 16,
   "metadata": {},
   "outputs": [
    {
     "name": "stdout",
     "output_type": "stream",
     "text": [
      "+--------------------+\n",
      "|   EPISODE_NARRATIVE|\n",
      "+--------------------+\n",
      "|Thunderstorms dev...|\n",
      "|An area of low pr...|\n",
      "|Thunderstorms eru...|\n",
      "|A strong mid-leve...|\n",
      "|A strong mid-leve...|\n",
      "+--------------------+\n",
      "only showing top 5 rows\n",
      "\n"
     ]
    }
   ],
   "source": [
    "dfStorm2019.select('EPISODE_NARRATIVE').distinct().show(5)"
   ]
  }
 ],
 "metadata": {
  "kernelspec": {
   "display_name": "Python 3",
   "language": "python",
   "name": "python3"
  },
  "language_info": {
   "codemirror_mode": {
    "name": "ipython",
    "version": 3
   },
   "file_extension": ".py",
   "mimetype": "text/x-python",
   "name": "python",
   "nbconvert_exporter": "python",
   "pygments_lexer": "ipython3",
   "version": "3.7.1"
  }
 },
 "nbformat": 4,
 "nbformat_minor": 2
}
