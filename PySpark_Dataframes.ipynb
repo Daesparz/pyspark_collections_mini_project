{
 "cells": [
  {
   "cell_type": "markdown",
   "metadata": {},
   "source": [
    "# 3. Dataframes in PySpark "
   ]
  },
  {
   "cell_type": "markdown",
   "metadata": {},
   "source": [
    "DataFrames in PySpark are able to handle petabytes of data and share some characteristics with RDD:\n",
    "- Inmutables\n",
    "- Lazy evaluations\n",
    "- Distributed"
   ]
  },
  {
   "cell_type": "code",
   "execution_count": 6,
   "metadata": {},
   "outputs": [],
   "source": [
    "# import SparkContext\n",
    "from pyspark import SparkContext"
   ]
  },
  {
   "cell_type": "code",
   "execution_count": 7,
   "metadata": {},
   "outputs": [],
   "source": [
    "sc_dataframe = SparkSession.builder.appName(\"pysparkDataframes\").getOrCreate()"
   ]
  },
  {
   "cell_type": "markdown",
   "metadata": {},
   "source": [
    "## Dataset\n",
    "\n",
    "Storm events in US during 2019 are studied in the following analysis, as entered by NOAA's National Weather Service (source: [NCDC](https://www.ncdc.noaa.gov/stormevents/ftp.jsp)). The folder **data** contains three csv files with event details, fatalities and locations."
   ]
  },
  {
   "cell_type": "code",
   "execution_count": 8,
   "metadata": {},
   "outputs": [],
   "source": [
    "dfStorm2019 = sc_dataframe.read.format('csv')\\\n",
    "                .option('header', 'true')\\\n",
    "                .option('delimiter', ',')\\\n",
    "                .option('inferSchema', 'true')\\\n",
    "                .load('../pyspark/data/StormEvents_details-ftp_v1.0_d2019_c20200317.csv.gz')"
   ]
  },
  {
   "cell_type": "code",
   "execution_count": 24,
   "metadata": {},
   "outputs": [],
   "source": [
    "dfFatalities2019 = sc_dataframe.read.format('csv')\\\n",
    "                    .option('header', 'true')\\\n",
    "                    .option('delimiter', ',')\\\n",
    "                    .option('inferSchema', 'true')\\\n",
    "                    .load('../pyspark/data/StormEvents_fatalities-ftp_v1.0_d2019_c20200317.csv.gz')"
   ]
  },
  {
   "cell_type": "code",
   "execution_count": 25,
   "metadata": {},
   "outputs": [],
   "source": [
    "dfLocations2019 = sc_dataframe.read.format('csv')\\\n",
    "                    .option('header', 'true')\\\n",
    "                    .option('delimiter', ',')\\\n",
    "                    .option('inferSchema', 'true')\\\n",
    "                    .load('../pyspark/data/StormEvents_locations-ftp_v1.0_d2019_c20200317.csv.gz')"
   ]
  },
  {
   "cell_type": "code",
   "execution_count": 9,
   "metadata": {},
   "outputs": [
    {
     "data": {
      "text/plain": [
       "pyspark.sql.dataframe.DataFrame"
      ]
     },
     "execution_count": 9,
     "metadata": {},
     "output_type": "execute_result"
    }
   ],
   "source": [
    "type(dfStorm2019)"
   ]
  },
  {
   "cell_type": "markdown",
   "metadata": {},
   "source": [
    "Displaying schema:"
   ]
  },
  {
   "cell_type": "code",
   "execution_count": 7,
   "metadata": {},
   "outputs": [
    {
     "name": "stdout",
     "output_type": "stream",
     "text": [
      "root\n",
      " |-- BEGIN_YEARMONTH: integer (nullable = true)\n",
      " |-- BEGIN_DAY: integer (nullable = true)\n",
      " |-- BEGIN_TIME: integer (nullable = true)\n",
      " |-- END_YEARMONTH: integer (nullable = true)\n",
      " |-- END_DAY: integer (nullable = true)\n",
      " |-- END_TIME: integer (nullable = true)\n",
      " |-- EPISODE_ID: integer (nullable = true)\n",
      " |-- EVENT_ID: integer (nullable = true)\n",
      " |-- STATE: string (nullable = true)\n",
      " |-- STATE_FIPS: integer (nullable = true)\n",
      " |-- YEAR: integer (nullable = true)\n",
      " |-- MONTH_NAME: string (nullable = true)\n",
      " |-- EVENT_TYPE: string (nullable = true)\n",
      " |-- CZ_TYPE: string (nullable = true)\n",
      " |-- CZ_FIPS: integer (nullable = true)\n",
      " |-- CZ_NAME: string (nullable = true)\n",
      " |-- WFO: string (nullable = true)\n",
      " |-- BEGIN_DATE_TIME: string (nullable = true)\n",
      " |-- CZ_TIMEZONE: string (nullable = true)\n",
      " |-- END_DATE_TIME: string (nullable = true)\n",
      " |-- INJURIES_DIRECT: integer (nullable = true)\n",
      " |-- INJURIES_INDIRECT: integer (nullable = true)\n",
      " |-- DEATHS_DIRECT: integer (nullable = true)\n",
      " |-- DEATHS_INDIRECT: integer (nullable = true)\n",
      " |-- DAMAGE_PROPERTY: string (nullable = true)\n",
      " |-- DAMAGE_CROPS: string (nullable = true)\n",
      " |-- SOURCE: string (nullable = true)\n",
      " |-- MAGNITUDE: double (nullable = true)\n",
      " |-- MAGNITUDE_TYPE: string (nullable = true)\n",
      " |-- FLOOD_CAUSE: string (nullable = true)\n",
      " |-- CATEGORY: integer (nullable = true)\n",
      " |-- TOR_F_SCALE: string (nullable = true)\n",
      " |-- TOR_LENGTH: double (nullable = true)\n",
      " |-- TOR_WIDTH: double (nullable = true)\n",
      " |-- TOR_OTHER_WFO: string (nullable = true)\n",
      " |-- TOR_OTHER_CZ_STATE: string (nullable = true)\n",
      " |-- TOR_OTHER_CZ_FIPS: integer (nullable = true)\n",
      " |-- TOR_OTHER_CZ_NAME: string (nullable = true)\n",
      " |-- BEGIN_RANGE: integer (nullable = true)\n",
      " |-- BEGIN_AZIMUTH: string (nullable = true)\n",
      " |-- BEGIN_LOCATION: string (nullable = true)\n",
      " |-- END_RANGE: integer (nullable = true)\n",
      " |-- END_AZIMUTH: string (nullable = true)\n",
      " |-- END_LOCATION: string (nullable = true)\n",
      " |-- BEGIN_LAT: double (nullable = true)\n",
      " |-- BEGIN_LON: double (nullable = true)\n",
      " |-- END_LAT: double (nullable = true)\n",
      " |-- END_LON: double (nullable = true)\n",
      " |-- EPISODE_NARRATIVE: string (nullable = true)\n",
      " |-- EVENT_NARRATIVE: string (nullable = true)\n",
      " |-- DATA_SOURCE: string (nullable = true)\n",
      "\n"
     ]
    }
   ],
   "source": [
    "dfStorm2019.printSchema()"
   ]
  },
  {
   "cell_type": "code",
   "execution_count": 21,
   "metadata": {},
   "outputs": [
    {
     "data": {
      "text/plain": [
       "['BEGIN_YEARMONTH',\n",
       " 'BEGIN_DAY',\n",
       " 'BEGIN_TIME',\n",
       " 'END_YEARMONTH',\n",
       " 'END_DAY',\n",
       " 'END_TIME',\n",
       " 'EPISODE_ID',\n",
       " 'EVENT_ID',\n",
       " 'STATE',\n",
       " 'STATE_FIPS',\n",
       " 'YEAR',\n",
       " 'MONTH_NAME',\n",
       " 'EVENT_TYPE',\n",
       " 'CZ_TYPE',\n",
       " 'CZ_FIPS',\n",
       " 'CZ_NAME',\n",
       " 'WFO',\n",
       " 'BEGIN_DATE_TIME',\n",
       " 'CZ_TIMEZONE',\n",
       " 'END_DATE_TIME',\n",
       " 'INJURIES_DIRECT',\n",
       " 'INJURIES_INDIRECT',\n",
       " 'DEATHS_DIRECT',\n",
       " 'DEATHS_INDIRECT',\n",
       " 'DAMAGE_PROPERTY',\n",
       " 'DAMAGE_CROPS',\n",
       " 'SOURCE',\n",
       " 'MAGNITUDE',\n",
       " 'MAGNITUDE_TYPE',\n",
       " 'FLOOD_CAUSE',\n",
       " 'CATEGORY',\n",
       " 'TOR_F_SCALE',\n",
       " 'TOR_LENGTH',\n",
       " 'TOR_WIDTH',\n",
       " 'TOR_OTHER_WFO',\n",
       " 'TOR_OTHER_CZ_STATE',\n",
       " 'TOR_OTHER_CZ_FIPS',\n",
       " 'TOR_OTHER_CZ_NAME',\n",
       " 'BEGIN_RANGE',\n",
       " 'BEGIN_AZIMUTH',\n",
       " 'BEGIN_LOCATION',\n",
       " 'END_RANGE',\n",
       " 'END_AZIMUTH',\n",
       " 'END_LOCATION',\n",
       " 'BEGIN_LAT',\n",
       " 'BEGIN_LON',\n",
       " 'END_LAT',\n",
       " 'END_LON',\n",
       " 'EPISODE_NARRATIVE',\n",
       " 'EVENT_NARRATIVE',\n",
       " 'DATA_SOURCE']"
      ]
     },
     "execution_count": 21,
     "metadata": {},
     "output_type": "execute_result"
    }
   ],
   "source": [
    "dfStorm2019.columns"
   ]
  },
  {
   "cell_type": "code",
   "execution_count": 12,
   "metadata": {},
   "outputs": [
    {
     "data": {
      "text/plain": [
       "[Row(BEGIN_YEARMONTH=201905, BEGIN_DAY=9, BEGIN_TIME=1554, END_YEARMONTH=201905, END_DAY=9, END_TIME=1830, EPISODE_ID=137295, EVENT_ID=824116, STATE='TEXAS', STATE_FIPS=48, YEAR=2019, MONTH_NAME='May', EVENT_TYPE='Flash Flood', CZ_TYPE='C', CZ_FIPS=29, CZ_NAME='BEXAR', WFO='EWX', BEGIN_DATE_TIME='09-MAY-19 15:54:00', CZ_TIMEZONE='CST-6', END_DATE_TIME='09-MAY-19 18:30:00', INJURIES_DIRECT=0, INJURIES_INDIRECT=0, DEATHS_DIRECT=0, DEATHS_INDIRECT=0, DAMAGE_PROPERTY='0.00K', DAMAGE_CROPS='0.00K', SOURCE='Law Enforcement', MAGNITUDE=None, MAGNITUDE_TYPE=None, FLOOD_CAUSE='Heavy Rain', CATEGORY=None, TOR_F_SCALE=None, TOR_LENGTH=None, TOR_WIDTH=None, TOR_OTHER_WFO=None, TOR_OTHER_CZ_STATE=None, TOR_OTHER_CZ_FIPS=None, TOR_OTHER_CZ_NAME=None, BEGIN_RANGE=8, BEGIN_AZIMUTH='N', BEGIN_LOCATION='LEON SPGS', END_RANGE=7, END_AZIMUTH='NNE', END_LOCATION='SAN GERONIMO', BEGIN_LAT=29.7898, BEGIN_LON=-98.6406, END_LAT=29.7158, END_LON=-98.7744, EPISODE_NARRATIVE='Thunderstorms developed along a cold front as it moved through South Central Texas. Some of these storms produced large hail, damaging wind gusts, and heavy rain that led to flash flooding.', EVENT_NARRATIVE='Thunderstorms produced heavy rain that led to flash flooding. Multiple low water crossings were closed in northwestern Bexar County.', DATA_SOURCE='CSV')]"
      ]
     },
     "execution_count": 12,
     "metadata": {},
     "output_type": "execute_result"
    }
   ],
   "source": [
    "dfStorm2019.take(1)"
   ]
  },
  {
   "cell_type": "code",
   "execution_count": 18,
   "metadata": {},
   "outputs": [
    {
     "data": {
      "text/plain": [
       "[Row(BEGIN_YEARMONTH=201905, BEGIN_DAY=9, BEGIN_TIME=1554, END_YEARMONTH=201905, END_DAY=9, END_TIME=1830, EPISODE_ID=137295, EVENT_ID=824116, STATE='TEXAS', STATE_FIPS=48, YEAR=2019, MONTH_NAME='May', EVENT_TYPE='Flash Flood', CZ_TYPE='C', CZ_FIPS=29, CZ_NAME='BEXAR', WFO='EWX', BEGIN_DATE_TIME='09-MAY-19 15:54:00', CZ_TIMEZONE='CST-6', END_DATE_TIME='09-MAY-19 18:30:00', INJURIES_DIRECT=0, INJURIES_INDIRECT=0, DEATHS_DIRECT=0, DEATHS_INDIRECT=0, DAMAGE_PROPERTY='0.00K', DAMAGE_CROPS='0.00K', SOURCE='Law Enforcement', MAGNITUDE=None, MAGNITUDE_TYPE=None, FLOOD_CAUSE='Heavy Rain', CATEGORY=None, TOR_F_SCALE=None, TOR_LENGTH=None, TOR_WIDTH=None, TOR_OTHER_WFO=None, TOR_OTHER_CZ_STATE=None, TOR_OTHER_CZ_FIPS=None, TOR_OTHER_CZ_NAME=None, BEGIN_RANGE=8, BEGIN_AZIMUTH='N', BEGIN_LOCATION='LEON SPGS', END_RANGE=7, END_AZIMUTH='NNE', END_LOCATION='SAN GERONIMO', BEGIN_LAT=29.7898, BEGIN_LON=-98.6406, END_LAT=29.7158, END_LON=-98.7744, EPISODE_NARRATIVE='Thunderstorms developed along a cold front as it moved through South Central Texas. Some of these storms produced large hail, damaging wind gusts, and heavy rain that led to flash flooding.', EVENT_NARRATIVE='Thunderstorms produced heavy rain that led to flash flooding. Multiple low water crossings were closed in northwestern Bexar County.', DATA_SOURCE='CSV')]"
      ]
     },
     "execution_count": 18,
     "metadata": {},
     "output_type": "execute_result"
    }
   ],
   "source": [
    "dfStorm2019.head(1)"
   ]
  },
  {
   "cell_type": "code",
   "execution_count": 13,
   "metadata": {},
   "outputs": [
    {
     "data": {
      "text/plain": [
       "67337"
      ]
     },
     "execution_count": 13,
     "metadata": {},
     "output_type": "execute_result"
    }
   ],
   "source": [
    "dfStorm2019.count()"
   ]
  },
  {
   "cell_type": "markdown",
   "metadata": {},
   "source": [
    "Checking duplicates rows:"
   ]
  },
  {
   "cell_type": "code",
   "execution_count": 6,
   "metadata": {},
   "outputs": [],
   "source": [
    "assert dfStorm2019.count() == dfStorm2019.distinct().count()"
   ]
  },
  {
   "cell_type": "code",
   "execution_count": 22,
   "metadata": {},
   "outputs": [
    {
     "name": "stdout",
     "output_type": "stream",
     "text": [
      "+-------+--------------------+\n",
      "|summary|   INJURIES_INDIRECT|\n",
      "+-------+--------------------+\n",
      "|  count|               67337|\n",
      "|   mean|0.007469890253501047|\n",
      "| stddev|  0.4528571961352913|\n",
      "|    min|                   0|\n",
      "|    max|                  71|\n",
      "+-------+--------------------+\n",
      "\n"
     ]
    }
   ],
   "source": [
    "dfStorm2019.describe('INJURIES_INDIRECT').show()"
   ]
  },
  {
   "cell_type": "code",
   "execution_count": 23,
   "metadata": {},
   "outputs": [
    {
     "name": "stdout",
     "output_type": "stream",
     "text": [
      "+-------+-------------------+\n",
      "|summary|    INJURIES_DIRECT|\n",
      "+-------+-------------------+\n",
      "|  count|              67337|\n",
      "|   mean|0.01834058541366559|\n",
      "| stddev| 0.8481467662887455|\n",
      "|    min|                  0|\n",
      "|    max|                166|\n",
      "+-------+-------------------+\n",
      "\n"
     ]
    }
   ],
   "source": [
    "dfStorm2019.describe('INJURIES_DIRECT').show()"
   ]
  },
  {
   "cell_type": "code",
   "execution_count": 16,
   "metadata": {},
   "outputs": [
    {
     "data": {
      "text/plain": [
       "[Row(BEGIN_YEARMONTH=201905, BEGIN_DAY=9, BEGIN_TIME=1554, END_YEARMONTH=201905, END_DAY=9, END_TIME=1830, EPISODE_ID=137295, EVENT_ID=824116, STATE='TEXAS', STATE_FIPS=48, YEAR=2019, MONTH_NAME='May', EVENT_TYPE='Flash Flood', CZ_TYPE='C', CZ_FIPS=29, CZ_NAME='BEXAR', WFO='EWX', BEGIN_DATE_TIME='09-MAY-19 15:54:00', CZ_TIMEZONE='CST-6', END_DATE_TIME='09-MAY-19 18:30:00', INJURIES_DIRECT=0, INJURIES_INDIRECT=0, DEATHS_DIRECT=0, DEATHS_INDIRECT=0, DAMAGE_PROPERTY='0.00K', DAMAGE_CROPS='0.00K', SOURCE='Law Enforcement', MAGNITUDE=None, MAGNITUDE_TYPE=None, FLOOD_CAUSE='Heavy Rain', CATEGORY=None, TOR_F_SCALE=None, TOR_LENGTH=None, TOR_WIDTH=None, TOR_OTHER_WFO=None, TOR_OTHER_CZ_STATE=None, TOR_OTHER_CZ_FIPS=None, TOR_OTHER_CZ_NAME=None, BEGIN_RANGE=8, BEGIN_AZIMUTH='N', BEGIN_LOCATION='LEON SPGS', END_RANGE=7, END_AZIMUTH='NNE', END_LOCATION='SAN GERONIMO', BEGIN_LAT=29.7898, BEGIN_LON=-98.6406, END_LAT=29.7158, END_LON=-98.7744, EPISODE_NARRATIVE='Thunderstorms developed along a cold front as it moved through South Central Texas. Some of these storms produced large hail, damaging wind gusts, and heavy rain that led to flash flooding.', EVENT_NARRATIVE='Thunderstorms produced heavy rain that led to flash flooding. Multiple low water crossings were closed in northwestern Bexar County.', DATA_SOURCE='CSV')]"
      ]
     },
     "execution_count": 16,
     "metadata": {},
     "output_type": "execute_result"
    }
   ],
   "source": [
    "dfStorm2019.filter(dfStorm2019.STATE == 'TEXAS').take(1)"
   ]
  },
  {
   "cell_type": "code",
   "execution_count": 17,
   "metadata": {},
   "outputs": [],
   "source": [
    "#dfStorm2019.describe().show()"
   ]
  },
  {
   "cell_type": "code",
   "execution_count": 10,
   "metadata": {},
   "outputs": [
    {
     "name": "stdout",
     "output_type": "stream",
     "text": [
      "+--------------------+-----+\n",
      "|               STATE|count|\n",
      "+--------------------+-----+\n",
      "|               TEXAS| 4338|\n",
      "|           MINNESOTA| 2126|\n",
      "|             VERMONT|  317|\n",
      "|            NEW YORK| 2514|\n",
      "|      ATLANTIC SOUTH|  519|\n",
      "|             FLORIDA|  939|\n",
      "|       WEST VIRGINIA|  967|\n",
      "|            ARKANSAS| 1148|\n",
      "|      GULF OF MEXICO|  907|\n",
      "|             MONTANA| 1286|\n",
      "|            MISSOURI| 2159|\n",
      "|             GEORGIA| 1158|\n",
      "|         CONNECTICUT|  240|\n",
      "|             ALABAMA| 1116|\n",
      "|                OHIO| 2279|\n",
      "|       MASSACHUSETTS|  860|\n",
      "|        RHODE ISLAND|   92|\n",
      "|              KANSAS| 2672|\n",
      "|                IOWA| 2276|\n",
      "|            VIRGINIA| 2398|\n",
      "|              ALASKA|  143|\n",
      "|      ATLANTIC NORTH| 1054|\n",
      "|            MARYLAND| 1208|\n",
      "|          CALIFORNIA| 2643|\n",
      "|        SOUTH DAKOTA| 2543|\n",
      "|      NORTH CAROLINA| 1448|\n",
      "|         MISSISSIPPI| 1140|\n",
      "|DISTRICT OF COLUMBIA|   52|\n",
      "|        NORTH DAKOTA| 1095|\n",
      "|            COLORADO| 1776|\n",
      "|            KENTUCKY| 1522|\n",
      "|              NEVADA|  313|\n",
      "|           TENNESSEE| 1157|\n",
      "|           WISCONSIN| 1573|\n",
      "|               MAINE|  320|\n",
      "|            NEBRASKA| 2088|\n",
      "|             WYOMING| 1106|\n",
      "|             INDIANA| 1447|\n",
      "|            ILLINOIS| 2084|\n",
      "|               IDAHO|  585|\n",
      "|          NEW JERSEY|  901|\n",
      "|              HAWAII|  687|\n",
      "|          NEW MEXICO|  860|\n",
      "|       LAKE MICHIGAN|  105|\n",
      "|       LAKE SUPERIOR|  102|\n",
      "|          LAKE HURON|   21|\n",
      "|            OKLAHOMA| 1801|\n",
      "|                UTAH|  335|\n",
      "|            MICHIGAN| 1067|\n",
      "|           LOUISIANA|  813|\n",
      "|        PENNSYLVANIA| 2395|\n",
      "|            DELAWARE|  136|\n",
      "|          WASHINGTON|  414|\n",
      "|      SOUTH CAROLINA|  826|\n",
      "|             ARIZONA|  516|\n",
      "|              OREGON|  290|\n",
      "|         PUERTO RICO|  155|\n",
      "|           LAKE ERIE|   77|\n",
      "|       NEW HAMPSHIRE|  129|\n",
      "|      AMERICAN SAMOA|   21|\n",
      "+--------------------+-----+\n",
      "only showing top 60 rows\n",
      "\n"
     ]
    }
   ],
   "source": [
    "dfStorm2019.groupBy('STATE').count().show(60)"
   ]
  },
  {
   "cell_type": "code",
   "execution_count": 11,
   "metadata": {},
   "outputs": [
    {
     "name": "stdout",
     "output_type": "stream",
     "text": [
      "+--------------------+-----+\n",
      "|          EVENT_TYPE|count|\n",
      "+--------------------+-----+\n",
      "|         Flash Flood| 4068|\n",
      "|   Thunderstorm Wind|18617|\n",
      "|             Tornado| 1727|\n",
      "|                Hail| 9013|\n",
      "|Marine Thundersto...| 2502|\n",
      "|         Rip Current|   72|\n",
      "|      Winter Weather| 3800|\n",
      "|          Waterspout|  183|\n",
      "|          Heavy Rain| 1416|\n",
      "|             Drought| 1007|\n",
      "|        Winter Storm| 3312|\n",
      "|               Flood| 4943|\n",
      "|           Lightning|  343|\n",
      "|            Blizzard|  852|\n",
      "|Extreme Cold/Wind...| 1065|\n",
      "|          Heavy Snow| 2844|\n",
      "|           High Wind| 3743|\n",
      "|        Funnel Cloud|  348|\n",
      "|       Coastal Flood|  240|\n",
      "|      Excessive Heat|  827|\n",
      "|                Heat| 1291|\n",
      "|         Marine Hail|   32|\n",
      "|     Cold/Wind Chill|  470|\n",
      "|         Strong Wind| 1590|\n",
      "|         Debris Flow|  184|\n",
      "|           Dense Fog|  652|\n",
      "|               Sleet|    1|\n",
      "|        Frost/Freeze|  654|\n",
      "|           Avalanche|   44|\n",
      "|           Hurricane|   10|\n",
      "|      Tropical Storm|  143|\n",
      "|           High Surf|  468|\n",
      "|            Wildfire|  180|\n",
      "|    Marine High Wind|   77|\n",
      "|           Ice Storm|  200|\n",
      "|Astronomical Low ...|   16|\n",
      "|          Dust Devil|    8|\n",
      "|    Lake-Effect Snow|   78|\n",
      "|        Freezing Fog|    6|\n",
      "|     Lakeshore Flood|  146|\n",
      "|          Dust Storm|   40|\n",
      "|         Sneakerwave|    3|\n",
      "|  Marine Strong Wind|   17|\n",
      "|Marine Tropical S...|   37|\n",
      "|         Dense Smoke|    2|\n",
      "|    Storm Surge/Tide|   25|\n",
      "| Tropical Depression|   26|\n",
      "|Marine Tropical D...|    4|\n",
      "|              Seiche|    4|\n",
      "|Marine Hurricane/...|    6|\n",
      "+--------------------+-----+\n",
      "only showing top 50 rows\n",
      "\n"
     ]
    }
   ],
   "source": [
    "dfStorm2019.groupBy('EVENT_TYPE').count().show(50)"
   ]
  },
  {
   "cell_type": "code",
   "execution_count": 12,
   "metadata": {},
   "outputs": [
    {
     "name": "stdout",
     "output_type": "stream",
     "text": [
      "+--------------+----------+-----+\n",
      "|         STATE|MONTH_NAME|count|\n",
      "+--------------+----------+-----+\n",
      "|       ALABAMA|  February|  104|\n",
      "|       ALABAMA|   October|   35|\n",
      "|       ALABAMA| September|   41|\n",
      "|       ALABAMA|       May|   73|\n",
      "|       ALABAMA|      June|  168|\n",
      "|       ALABAMA|   January|   32|\n",
      "|       ALABAMA|      July|   63|\n",
      "|       ALABAMA|    August|  126|\n",
      "|       ALABAMA|     March|  148|\n",
      "|       ALABAMA|  December|   92|\n",
      "|       ALABAMA|  November|   77|\n",
      "|       ALABAMA|     April|  157|\n",
      "|        ALASKA|     April|   12|\n",
      "|        ALASKA|   October|   19|\n",
      "|        ALASKA|      June|    4|\n",
      "|        ALASKA|     March|   17|\n",
      "|        ALASKA|  February|   14|\n",
      "|        ALASKA|   January|   10|\n",
      "|        ALASKA|      July|    2|\n",
      "|        ALASKA|       May|    2|\n",
      "|        ALASKA|    August|   11|\n",
      "|        ALASKA| September|    4|\n",
      "|        ALASKA|  December|   32|\n",
      "|        ALASKA|  November|   16|\n",
      "|AMERICAN SAMOA|       May|    2|\n",
      "|AMERICAN SAMOA| September|    3|\n",
      "|AMERICAN SAMOA|      July|    2|\n",
      "|AMERICAN SAMOA|   October|    2|\n",
      "|AMERICAN SAMOA|  December|    4|\n",
      "|AMERICAN SAMOA|      June|    4|\n",
      "|AMERICAN SAMOA|     March|    1|\n",
      "|AMERICAN SAMOA|    August|    2|\n",
      "|AMERICAN SAMOA|     April|    1|\n",
      "|       ARIZONA|     March|    9|\n",
      "|       ARIZONA|   January|   32|\n",
      "|       ARIZONA|     April|    6|\n",
      "|       ARIZONA|    August|   82|\n",
      "|       ARIZONA|  February|   72|\n",
      "|       ARIZONA|      June|    7|\n",
      "|       ARIZONA| September|  122|\n",
      "|       ARIZONA|  November|   87|\n",
      "|       ARIZONA|       May|    6|\n",
      "|       ARIZONA|      July|   64|\n",
      "|       ARIZONA|   October|    3|\n",
      "|       ARIZONA|  December|   26|\n",
      "|      ARKANSAS|     March|   70|\n",
      "|      ARKANSAS|     April|   89|\n",
      "|      ARKANSAS|   January|   46|\n",
      "|      ARKANSAS|       May|  220|\n",
      "|      ARKANSAS|  February|   60|\n",
      "+--------------+----------+-----+\n",
      "only showing top 50 rows\n",
      "\n"
     ]
    }
   ],
   "source": [
    "dfStorm2019.groupBy('STATE', 'MONTH_NAME').count().orderBy('STATE', ascending=True).show(50)"
   ]
  },
  {
   "cell_type": "code",
   "execution_count": 13,
   "metadata": {},
   "outputs": [
    {
     "name": "stdout",
     "output_type": "stream",
     "text": [
      "+------------------+\n",
      "|sum(DEATHS_DIRECT)|\n",
      "+------------------+\n",
      "|               390|\n",
      "+------------------+\n",
      "\n"
     ]
    }
   ],
   "source": [
    "dfStorm2019.agg({'DEATHS_DIRECT':'sum'}).show()"
   ]
  },
  {
   "cell_type": "code",
   "execution_count": 14,
   "metadata": {},
   "outputs": [
    {
     "name": "stdout",
     "output_type": "stream",
     "text": [
      "+--------------------+\n",
      "|sum(DEATHS_INDIRECT)|\n",
      "+--------------------+\n",
      "|                 160|\n",
      "+--------------------+\n",
      "\n"
     ]
    }
   ],
   "source": [
    "dfStorm2019.agg({'DEATHS_INDIRECT':'sum'}).show()"
   ]
  },
  {
   "cell_type": "code",
   "execution_count": 16,
   "metadata": {},
   "outputs": [
    {
     "name": "stdout",
     "output_type": "stream",
     "text": [
      "+--------------------+\n",
      "|   EPISODE_NARRATIVE|\n",
      "+--------------------+\n",
      "|Thunderstorms dev...|\n",
      "|An area of low pr...|\n",
      "|Thunderstorms eru...|\n",
      "|A strong mid-leve...|\n",
      "|A strong mid-leve...|\n",
      "+--------------------+\n",
      "only showing top 5 rows\n",
      "\n"
     ]
    }
   ],
   "source": [
    "dfStorm2019.select('EPISODE_NARRATIVE').distinct().show(5)"
   ]
  },
  {
   "cell_type": "code",
   "execution_count": 26,
   "metadata": {},
   "outputs": [
    {
     "name": "stdout",
     "output_type": "stream",
     "text": [
      "root\n",
      " |-- FAT_YEARMONTH: integer (nullable = true)\n",
      " |-- FAT_DAY: integer (nullable = true)\n",
      " |-- FAT_TIME: integer (nullable = true)\n",
      " |-- FATALITY_ID: integer (nullable = true)\n",
      " |-- EVENT_ID: integer (nullable = true)\n",
      " |-- FATALITY_TYPE: string (nullable = true)\n",
      " |-- FATALITY_DATE: string (nullable = true)\n",
      " |-- FATALITY_AGE: integer (nullable = true)\n",
      " |-- FATALITY_SEX: string (nullable = true)\n",
      " |-- FATALITY_LOCATION: string (nullable = true)\n",
      " |-- EVENT_YEARMONTH: integer (nullable = true)\n",
      "\n"
     ]
    }
   ],
   "source": [
    "dfFatalities2019.printSchema()"
   ]
  },
  {
   "cell_type": "code",
   "execution_count": 27,
   "metadata": {},
   "outputs": [
    {
     "name": "stdout",
     "output_type": "stream",
     "text": [
      "root\n",
      " |-- YEARMONTH: integer (nullable = true)\n",
      " |-- EPISODE_ID: integer (nullable = true)\n",
      " |-- EVENT_ID: integer (nullable = true)\n",
      " |-- LOCATION_INDEX: integer (nullable = true)\n",
      " |-- RANGE: double (nullable = true)\n",
      " |-- AZIMUTH: string (nullable = true)\n",
      " |-- LOCATION: string (nullable = true)\n",
      " |-- LATITUDE: double (nullable = true)\n",
      " |-- LONGITUDE: double (nullable = true)\n",
      " |-- LAT2: integer (nullable = true)\n",
      " |-- LON2: integer (nullable = true)\n",
      "\n"
     ]
    }
   ],
   "source": [
    "dfLocations2019.printSchema()"
   ]
  },
  {
   "cell_type": "code",
   "execution_count": 38,
   "metadata": {},
   "outputs": [],
   "source": [
    "dfAgeSex = dfFatalities2019.crosstab('FATALITY_AGE', 'FATALITY_SEX')"
   ]
  },
  {
   "cell_type": "code",
   "execution_count": 49,
   "metadata": {},
   "outputs": [
    {
     "name": "stdout",
     "output_type": "stream",
     "text": [
      "+-------------------------+---+---+----+\n",
      "|FATALITY_AGE_FATALITY_SEX|  F|  M|null|\n",
      "+-------------------------+---+---+----+\n",
      "|                       69|  1|  7|   0|\n",
      "|                        0|  0|  0|   2|\n",
      "|                     null|  6| 24|  25|\n",
      "|                        5|  1|  3|   0|\n",
      "|                       10|  1|  1|   0|\n",
      "|                       56|  3|  5|   0|\n",
      "|                       42|  0|  2|   0|\n",
      "|                       24|  2|  3|   0|\n",
      "|                       37|  0|  4|   0|\n",
      "|                       25|  1|  8|   0|\n",
      "|                       52|  4| 13|   0|\n",
      "|                       14|  1|  5|   0|\n",
      "|                       20|  3|  2|   0|\n",
      "|                       46|  2|  4|   0|\n",
      "|                       57|  3|  3|   0|\n",
      "|                       78|  4|  1|   0|\n",
      "|                       29|  3|  5|   0|\n",
      "|                       84|  0|  1|   0|\n",
      "|                       61|  1|  7|   0|\n",
      "|                       89|  0|  1|   0|\n",
      "+-------------------------+---+---+----+\n",
      "only showing top 20 rows\n",
      "\n"
     ]
    }
   ],
   "source": [
    "dfAgeSex.show()"
   ]
  },
  {
   "cell_type": "code",
   "execution_count": 62,
   "metadata": {},
   "outputs": [],
   "source": [
    "dfLocationSex = dfFatalities2019.crosstab('FATALITY_LOCATION', 'FATALITY_SEX')"
   ]
  },
  {
   "cell_type": "code",
   "execution_count": 63,
   "metadata": {},
   "outputs": [
    {
     "name": "stdout",
     "output_type": "stream",
     "text": [
      "+------------------------------+---+---+----+\n",
      "|FATALITY_LOCATION_FATALITY_SEX|  F|  M|null|\n",
      "+------------------------------+---+---+----+\n",
      "|                         Other|  2|  5|   0|\n",
      "|          Heavy Equipment/C...|  0|  2|   0|\n",
      "|                    Ball Field|  0|  1|   0|\n",
      "|                      In Water| 12| 97|   1|\n",
      "|                       Boating|  2| 15|   0|\n",
      "|                Permanent Home| 15| 21|   2|\n",
      "|                    Under Tree|  5|  7|   1|\n",
      "|          Vehicle/Towed Tra...| 55|100|  13|\n",
      "|                       Camping|  1|  2|   0|\n",
      "|           Mobile/Trailer Home| 17| 13|   2|\n",
      "|            Outside/Open Areas| 25|102|   6|\n",
      "|                       Unknown|  3| 15|   4|\n",
      "|           Permanent Structure|  5|  4|   0|\n",
      "+------------------------------+---+---+----+\n",
      "\n"
     ]
    }
   ],
   "source": [
    "dfLocationSex.show()"
   ]
  },
  {
   "cell_type": "code",
   "execution_count": null,
   "metadata": {},
   "outputs": [],
   "source": [
    "dfLocationType = dfFatalities2019.crosstab('FATALITY_LOCATION', 'FATALITY_TYPE')"
   ]
  },
  {
   "cell_type": "code",
   "execution_count": null,
   "metadata": {},
   "outputs": [],
   "source": [
    "dfLocationType.show()"
   ]
  },
  {
   "cell_type": "code",
   "execution_count": 50,
   "metadata": {},
   "outputs": [],
   "source": [
    "AgeSex_df = dfAgeSex.toPandas()"
   ]
  },
  {
   "cell_type": "code",
   "execution_count": 51,
   "metadata": {},
   "outputs": [
    {
     "data": {
      "text/html": [
       "<div>\n",
       "<style scoped>\n",
       "    .dataframe tbody tr th:only-of-type {\n",
       "        vertical-align: middle;\n",
       "    }\n",
       "\n",
       "    .dataframe tbody tr th {\n",
       "        vertical-align: top;\n",
       "    }\n",
       "\n",
       "    .dataframe thead th {\n",
       "        text-align: right;\n",
       "    }\n",
       "</style>\n",
       "<table border=\"1\" class=\"dataframe\">\n",
       "  <thead>\n",
       "    <tr style=\"text-align: right;\">\n",
       "      <th></th>\n",
       "      <th>FATALITY_AGE_FATALITY_SEX</th>\n",
       "      <th>F</th>\n",
       "      <th>M</th>\n",
       "      <th>null</th>\n",
       "    </tr>\n",
       "  </thead>\n",
       "  <tbody>\n",
       "    <tr>\n",
       "      <th>0</th>\n",
       "      <td>69</td>\n",
       "      <td>1</td>\n",
       "      <td>7</td>\n",
       "      <td>0</td>\n",
       "    </tr>\n",
       "    <tr>\n",
       "      <th>1</th>\n",
       "      <td>0</td>\n",
       "      <td>0</td>\n",
       "      <td>0</td>\n",
       "      <td>2</td>\n",
       "    </tr>\n",
       "    <tr>\n",
       "      <th>2</th>\n",
       "      <td>null</td>\n",
       "      <td>6</td>\n",
       "      <td>24</td>\n",
       "      <td>25</td>\n",
       "    </tr>\n",
       "    <tr>\n",
       "      <th>3</th>\n",
       "      <td>5</td>\n",
       "      <td>1</td>\n",
       "      <td>3</td>\n",
       "      <td>0</td>\n",
       "    </tr>\n",
       "    <tr>\n",
       "      <th>4</th>\n",
       "      <td>10</td>\n",
       "      <td>1</td>\n",
       "      <td>1</td>\n",
       "      <td>0</td>\n",
       "    </tr>\n",
       "  </tbody>\n",
       "</table>\n",
       "</div>"
      ],
      "text/plain": [
       "  FATALITY_AGE_FATALITY_SEX  F   M  null\n",
       "0                        69  1   7     0\n",
       "1                         0  0   0     2\n",
       "2                      null  6  24    25\n",
       "3                         5  1   3     0\n",
       "4                        10  1   1     0"
      ]
     },
     "execution_count": 51,
     "metadata": {},
     "output_type": "execute_result"
    }
   ],
   "source": [
    "AgeSex_df.head()"
   ]
  },
  {
   "cell_type": "code",
   "execution_count": null,
   "metadata": {},
   "outputs": [],
   "source": []
  }
 ],
 "metadata": {
  "kernelspec": {
   "display_name": "Python 3",
   "language": "python",
   "name": "python3"
  },
  "language_info": {
   "codemirror_mode": {
    "name": "ipython",
    "version": 3
   },
   "file_extension": ".py",
   "mimetype": "text/x-python",
   "name": "python",
   "nbconvert_exporter": "python",
   "pygments_lexer": "ipython3",
   "version": "3.7.1"
  }
 },
 "nbformat": 4,
 "nbformat_minor": 2
}
