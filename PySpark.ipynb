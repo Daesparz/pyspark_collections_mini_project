{
 "cells": [
  {
   "cell_type": "markdown",
   "metadata": {},
   "source": [
    "# PySpark on Mac\n",
    "\n",
    "To install PySpark, I used this [tutorial](https://medium.com/@GalarnykMichael/install-spark-on-mac-pyspark-453f395f240b) that offers a complete guideline about how to configure and update PySpark driver environment variables adding lines to your ~/.bash_profile file."
   ]
  },
  {
   "cell_type": "code",
   "execution_count": 1,
   "metadata": {},
   "outputs": [],
   "source": [
    "# import SparkContext\n",
    "from pyspark import SparkContext"
   ]
  },
  {
   "cell_type": "markdown",
   "metadata": {},
   "source": [
    "### Resilient Distributed Datasets (RDDs)\n",
    "\n",
    "RDDs are the backbone of Apache Spark. They perform calculations faster because the dataset is parallelized, it means, distributed or split into chuncks based on keys and executor nodes.  \n",
    "\n",
    "The transformations to the dataset only occur when the action is taken, optimizing the execution.\n",
    "\n",
    "Let's try an example of RDDs:"
   ]
  },
  {
   "cell_type": "code",
   "execution_count": 2,
   "metadata": {},
   "outputs": [],
   "source": [
    "sc = SparkContext.getOrCreate()"
   ]
  },
  {
   "cell_type": "markdown",
   "metadata": {},
   "source": [
    "1 million of 2D dots are randomly generated. A basic multiplication and substraction is applied to every coordinate and then we calculate the mean and standard deviation of every population of coordinates. "
   ]
  },
  {
   "cell_type": "code",
   "execution_count": 3,
   "metadata": {},
   "outputs": [],
   "source": [
    "import numpy as np\n",
    "\n",
    "TOTAL = 1000000\n",
    "dots = sc.parallelize([2.0 * np.random.random(2) - 1.0 for i in range(TOTAL)]).cache()"
   ]
  },
  {
   "cell_type": "code",
   "execution_count": 4,
   "metadata": {},
   "outputs": [
    {
     "data": {
      "text/plain": [
       "[array([0.02294497, 0.14497392]),\n",
       " array([ 0.43679125, -0.27209092]),\n",
       " array([ 0.50293121, -0.00947994]),\n",
       " array([-0.04634862, -0.28718432]),\n",
       " array([-0.44772028,  0.67731428]),\n",
       " array([ 0.36578485, -0.47904216]),\n",
       " array([ 0.46645309, -0.19562448]),\n",
       " array([-0.52289423,  0.72305018]),\n",
       " array([0.34470048, 0.50470049]),\n",
       " array([ 0.50013807, -0.66653415])]"
      ]
     },
     "execution_count": 4,
     "metadata": {},
     "output_type": "execute_result"
    }
   ],
   "source": [
    "#access to the first 10 elements on dots:\n",
    "dots.take(10)"
   ]
  },
  {
   "cell_type": "code",
   "execution_count": 5,
   "metadata": {},
   "outputs": [
    {
     "data": {
      "text/plain": [
       "1000000"
      ]
     },
     "execution_count": 5,
     "metadata": {},
     "output_type": "execute_result"
    }
   ],
   "source": [
    "#count the elements on dots:\n",
    "dots.count()"
   ]
  },
  {
   "cell_type": "code",
   "execution_count": 6,
   "metadata": {},
   "outputs": [
    {
     "data": {
      "text/plain": [
       "array([0.02294497, 0.14497392])"
      ]
     },
     "execution_count": 6,
     "metadata": {},
     "output_type": "execute_result"
    }
   ],
   "source": [
    "#inspect firt line\n",
    "dots.first()"
   ]
  },
  {
   "cell_type": "code",
   "execution_count": 8,
   "metadata": {},
   "outputs": [
    {
     "name": "stdout",
     "output_type": "stream",
     "text": [
      "Mean: [0.00040623 0.00047935]\n",
      "stdev: [0.57703526 0.57736937]\n"
     ]
    }
   ],
   "source": [
    "stats = dots.stats()\n",
    "print('Mean:', stats.mean())\n",
    "print('stdev:', stats.stdev())"
   ]
  },
  {
   "cell_type": "markdown",
   "metadata": {},
   "source": [
    "### RDD Data Transformations\n",
    "\n",
    "\n",
    "What kind of transformations we can do? Mapping, filtering, joining, and transcoding are the operations that transform the values in the dataset."
   ]
  },
  {
   "cell_type": "code",
   "execution_count": 24,
   "metadata": {},
   "outputs": [
    {
     "data": {
      "text/plain": [
       "5"
      ]
     },
     "execution_count": 24,
     "metadata": {},
     "output_type": "execute_result"
    }
   ],
   "source": [
    "sc.parallelize(['a', 'b', 'c', 1, 1.1]).count()"
   ]
  },
  {
   "cell_type": "code",
   "execution_count": 26,
   "metadata": {},
   "outputs": [
    {
     "data": {
      "text/plain": [
       "[('flat white', 2), ('latte', 1), ('pour over', 1)]"
      ]
     },
     "execution_count": 26,
     "metadata": {},
     "output_type": "execute_result"
    }
   ],
   "source": [
    "rdd = sc.parallelize([('flat white', 1), ('latte', 4), ('pour over', 1), ('flat white', 3)]) \n",
    "sorted(rdd.countByKey().items())"
   ]
  },
  {
   "cell_type": "code",
   "execution_count": 28,
   "metadata": {},
   "outputs": [
    {
     "data": {
      "text/plain": [
       "['a', 'b', 'c', 'd', 'e']"
      ]
     },
     "execution_count": 28,
     "metadata": {},
     "output_type": "execute_result"
    }
   ],
   "source": [
    "sorted(sc.parallelize(['a', 'b', 'c', 'd', 'e', 'a', 'b']).distinct().collect())"
   ]
  },
  {
   "cell_type": "code",
   "execution_count": 32,
   "metadata": {},
   "outputs": [
    {
     "data": {
      "text/plain": [
       "['cup of flat white',\n",
       " 'cup of capuccino',\n",
       " 'cup of latte',\n",
       " 'cup of tea',\n",
       " 'cup of matcha']"
      ]
     },
     "execution_count": 32,
     "metadata": {},
     "output_type": "execute_result"
    }
   ],
   "source": [
    "rdd = sc.parallelize(['flat white', 'capuccino', 'latte', 'tea', 'matcha'])\n",
    "rdd.map(lambda x: 'cup of '+''.join(x)).collect()"
   ]
  },
  {
   "cell_type": "code",
   "execution_count": 33,
   "metadata": {},
   "outputs": [
    {
     "data": {
      "text/plain": [
       "[2, 4]"
      ]
     },
     "execution_count": 33,
     "metadata": {},
     "output_type": "execute_result"
    }
   ],
   "source": [
    "rdd = sc.parallelize([1, 2, 3, 4, 5])\n",
    "rdd.filter(lambda x: x % 2 == 0).collect()"
   ]
  },
  {
   "cell_type": "code",
   "execution_count": 34,
   "metadata": {},
   "outputs": [
    {
     "data": {
      "text/plain": [
       "'flat white'"
      ]
     },
     "execution_count": 34,
     "metadata": {},
     "output_type": "execute_result"
    }
   ],
   "source": [
    "rdd = sc.parallelize(['flat white', 'capuccino', 'latte', 'tea', 'matcha'])\n",
    "rdd.first()"
   ]
  },
  {
   "cell_type": "markdown",
   "metadata": {},
   "source": [
    "### Data Frames"
   ]
  },
  {
   "cell_type": "code",
   "execution_count": 36,
   "metadata": {},
   "outputs": [],
   "source": [
    "sc_dataframe = SparkSession.builder.appName(\"pysparkDataframes\").getOrCreate()"
   ]
  },
  {
   "cell_type": "code",
   "execution_count": 37,
   "metadata": {},
   "outputs": [],
   "source": [
    "dfStormEvents2019 = sc_dataframe.read.csv('../pyspark/data/StormEvents_details-ftp_v1.0_d2019_c20200317.csv.gz')"
   ]
  },
  {
   "cell_type": "code",
   "execution_count": 38,
   "metadata": {},
   "outputs": [
    {
     "name": "stdout",
     "output_type": "stream",
     "text": [
      "+---------------+---------+----------+-------------+-------+--------+----------+--------+-----+----------+----+----------+-----------+-------+-------+-------+----+------------------+-----------+------------------+---------------+-----------------+-------------+---------------+---------------+------------+---------------+---------+--------------+-----------+--------+-----------+----------+---------+-------------+------------------+-----------------+-----------------+-----------+-------------+--------------+---------+-----------+------------+---------+---------+-------+--------+--------------------+--------------------+-----------+\n",
      "|            _c0|      _c1|       _c2|          _c3|    _c4|     _c5|       _c6|     _c7|  _c8|       _c9|_c10|      _c11|       _c12|   _c13|   _c14|   _c15|_c16|              _c17|       _c18|              _c19|           _c20|             _c21|         _c22|           _c23|           _c24|        _c25|           _c26|     _c27|          _c28|       _c29|    _c30|       _c31|      _c32|     _c33|         _c34|              _c35|             _c36|             _c37|       _c38|         _c39|          _c40|     _c41|       _c42|        _c43|     _c44|     _c45|   _c46|    _c47|                _c48|                _c49|       _c50|\n",
      "+---------------+---------+----------+-------------+-------+--------+----------+--------+-----+----------+----+----------+-----------+-------+-------+-------+----+------------------+-----------+------------------+---------------+-----------------+-------------+---------------+---------------+------------+---------------+---------+--------------+-----------+--------+-----------+----------+---------+-------------+------------------+-----------------+-----------------+-----------+-------------+--------------+---------+-----------+------------+---------+---------+-------+--------+--------------------+--------------------+-----------+\n",
      "|BEGIN_YEARMONTH|BEGIN_DAY|BEGIN_TIME|END_YEARMONTH|END_DAY|END_TIME|EPISODE_ID|EVENT_ID|STATE|STATE_FIPS|YEAR|MONTH_NAME| EVENT_TYPE|CZ_TYPE|CZ_FIPS|CZ_NAME| WFO|   BEGIN_DATE_TIME|CZ_TIMEZONE|     END_DATE_TIME|INJURIES_DIRECT|INJURIES_INDIRECT|DEATHS_DIRECT|DEATHS_INDIRECT|DAMAGE_PROPERTY|DAMAGE_CROPS|         SOURCE|MAGNITUDE|MAGNITUDE_TYPE|FLOOD_CAUSE|CATEGORY|TOR_F_SCALE|TOR_LENGTH|TOR_WIDTH|TOR_OTHER_WFO|TOR_OTHER_CZ_STATE|TOR_OTHER_CZ_FIPS|TOR_OTHER_CZ_NAME|BEGIN_RANGE|BEGIN_AZIMUTH|BEGIN_LOCATION|END_RANGE|END_AZIMUTH|END_LOCATION|BEGIN_LAT|BEGIN_LON|END_LAT| END_LON|   EPISODE_NARRATIVE|     EVENT_NARRATIVE|DATA_SOURCE|\n",
      "|         201905|        9|      1554|       201905|      9|    1830|    137295|  824116|TEXAS|        48|2019|       May|Flash Flood|      C|     29|  BEXAR| EWX|09-MAY-19 15:54:00|      CST-6|09-MAY-19 18:30:00|              0|                0|            0|              0|          0.00K|       0.00K|Law Enforcement|     null|          null| Heavy Rain|    null|       null|      null|     null|         null|              null|             null|             null|          8|            N|     LEON SPGS|        7|        NNE|SAN GERONIMO|  29.7898| -98.6406|29.7158|-98.7744|Thunderstorms dev...|Thunderstorms pro...|        CSV|\n",
      "+---------------+---------+----------+-------------+-------+--------+----------+--------+-----+----------+----+----------+-----------+-------+-------+-------+----+------------------+-----------+------------------+---------------+-----------------+-------------+---------------+---------------+------------+---------------+---------+--------------+-----------+--------+-----------+----------+---------+-------------+------------------+-----------------+-----------------+-----------+-------------+--------------+---------+-----------+------------+---------+---------+-------+--------+--------------------+--------------------+-----------+\n",
      "only showing top 2 rows\n",
      "\n"
     ]
    }
   ],
   "source": [
    "dfStormEvents2019.show(2)"
   ]
  },
  {
   "cell_type": "code",
   "execution_count": 39,
   "metadata": {},
   "outputs": [
    {
     "data": {
      "text/plain": [
       "67338"
      ]
     },
     "execution_count": 39,
     "metadata": {},
     "output_type": "execute_result"
    }
   ],
   "source": [
    "dfStormEvents2019.count()"
   ]
  },
  {
   "cell_type": "code",
   "execution_count": 40,
   "metadata": {},
   "outputs": [
    {
     "data": {
      "text/plain": [
       "67338"
      ]
     },
     "execution_count": 40,
     "metadata": {},
     "output_type": "execute_result"
    }
   ],
   "source": [
    "dfStormEvents2019.distinct().count()"
   ]
  },
  {
   "cell_type": "code",
   "execution_count": 41,
   "metadata": {},
   "outputs": [
    {
     "name": "stdout",
     "output_type": "stream",
     "text": [
      "+-------+------------------+------------------+------------------+------------------+------------------+------------------+------------------+------------------+-------+-----------------+------+---------+--------------------+-----+------------------+--------------------+-----+------------------+------+------------------+-------------------+--------------------+--------------------+--------------------+---------------+------------+---------------+------------------+-----+-------------------+-----------------+-----------+-----------------+------------------+----+----+------------------+------+------------------+-------------+----------------+------------------+-----+----------------+-----------------+------------------+-----------------+------------------+--------------------+--------------------+-----------+\n",
      "|summary|               _c0|               _c1|               _c2|               _c3|               _c4|               _c5|               _c6|               _c7|    _c8|              _c9|  _c10|     _c11|                _c12| _c13|              _c14|                _c15| _c16|              _c17|  _c18|              _c19|               _c20|                _c21|                _c22|                _c23|           _c24|        _c25|           _c26|              _c27| _c28|               _c29|             _c30|       _c31|             _c32|              _c33|_c34|_c35|              _c36|  _c37|              _c38|         _c39|            _c40|              _c41| _c42|            _c43|             _c44|              _c45|             _c46|              _c47|                _c48|                _c49|       _c50|\n",
      "+-------+------------------+------------------+------------------+------------------+------------------+------------------+------------------+------------------+-------+-----------------+------+---------+--------------------+-----+------------------+--------------------+-----+------------------+------+------------------+-------------------+--------------------+--------------------+--------------------+---------------+------------+---------------+------------------+-----+-------------------+-----------------+-----------+-----------------+------------------+----+----+------------------+------+------------------+-------------+----------------+------------------+-----+----------------+-----------------+------------------+-----------------+------------------+--------------------+--------------------+-----------+\n",
      "|  count|             67338|             67338|             67338|             67338|             67338|             67338|             67338|             67338|  67338|            67338| 67338|    67338|               67338|67338|             67338|               67338|67338|             67338| 67338|             67338|              67338|               67338|               67338|               67338|          54109|       54553|          67338|             35592|26547|               9196|               11|       1728|             1728|              1728| 217| 217|               217|   217|             43479|        43479|           43479|             43479|43479|           43479|            43479|             43479|            43479|             43479|               67338|               52697|      67338|\n",
      "|   mean| 201905.9325333769|16.223547232576443|1299.5286989322365| 201905.9325333769|17.201033607080802|1430.4338031097316| 138393.9471018905| 831835.9485869581|   null|33.22639856245452|2019.0|     null|                null| null|106.46161842671934|                null| null|              null|  null|              null|0.01834058541366559|0.007469890253501047|0.005791763814841766|0.002376108231729955|           null|        null|           null| 38.69752268831944| null|               null|              1.3|       null|3.043225246091495|218.87815865662998|null|null|108.61111111111111|  null|2.4874649247895486|         null|            null|2.5100050600303603| null|            null| 38.0658203298219|-90.33648193799245|38.06324064814387|-90.32744319195932|                null|                null|       null|\n",
      "| stddev|3.0088689618328175| 8.911605653904353| 655.0183859549377|3.0088689618328175| 8.864204976034136| 611.0044538574331|3375.6448913212766|21032.742080946333|   null|18.85343221195485|   0.0|     null|                null| null|  136.032931101328|                null| null|              null|  null|              null| 0.8481467662887455|  0.4528571961352913|  0.1261598919843161|0.057109993561055915|           null|        null|           null|22.895001617095286| null|               null|0.483045891539648|       null|4.048476097386766|373.11851139282874|null|null| 82.85216122802734|  null| 4.548766582259137|         null|            null| 4.571495429060131| null|            null|4.909496672774951|11.723694403246798|4.908502316762746|11.720236413668438|                null|                null|       null|\n",
      "|    min|            201901|                 1|                 0|            201901|                 1|                 0|            132253|            791304|ALABAMA|                1|  2019|    April|Astronomical Low ...|    C|                 1|5NM E OF FAIRPORT...|  ABQ|01-APR-19 00:00:00|AKST-9|01-APR-19 04:10:00|                  0|                   0|                   0|                   0|          0.00K|       0.00K|911 Call Center|              0.25|   EG|  Dam / Levee Break|                1|        EF0|             0.01|                 1| AKQ|  AL|               001|ACADIA|                 0|BEGIN_AZIMUTH|(0E4)PAYSON ARPT|                 0|    E|(0E4)PAYSON ARPT|         -14.1683|              -100|         -14.1319|              -100|A  deep surge of ...|A  barn and silo ...|        CSV|\n",
      "|    max|   BEGIN_YEARMONTH|         BEGIN_DAY|        BEGIN_TIME|     END_YEARMONTH|           END_DAY|          END_TIME|        EPISODE_ID|          EVENT_ID|WYOMING|       STATE_FIPS|  YEAR|September|      Winter Weather|    Z|           CZ_FIPS|             ZIEBACH|  WFO|   BEGIN_DATE_TIME|SST-11|     END_DATE_TIME|    INJURIES_DIRECT|   INJURIES_INDIRECT|       DEATHS_DIRECT|     DEATHS_INDIRECT|DAMAGE_PROPERTY|DAMAGE_CROPS|           WLON|         MAGNITUDE|   MS|Planned Dam Release|         CATEGORY|TOR_F_SCALE|       TOR_LENGTH|         TOR_WIDTH| VEF|  WY| TOR_OTHER_CZ_FIPS|  YUMA|       BEGIN_RANGE|          WSW|          ZURICH|         END_RANGE|  WSW|          ZURICH|        BEGIN_LAT|         BEGIN_LON|          END_LAT|           END_LON|Yet another stron...|Zion Road closed ...|DATA_SOURCE|\n",
      "+-------+------------------+------------------+------------------+------------------+------------------+------------------+------------------+------------------+-------+-----------------+------+---------+--------------------+-----+------------------+--------------------+-----+------------------+------+------------------+-------------------+--------------------+--------------------+--------------------+---------------+------------+---------------+------------------+-----+-------------------+-----------------+-----------+-----------------+------------------+----+----+------------------+------+------------------+-------------+----------------+------------------+-----+----------------+-----------------+------------------+-----------------+------------------+--------------------+--------------------+-----------+\n",
      "\n"
     ]
    }
   ],
   "source": [
    "dfStormEvents2019.describe().show()"
   ]
  },
  {
   "cell_type": "code",
   "execution_count": null,
   "metadata": {},
   "outputs": [],
   "source": []
  }
 ],
 "metadata": {
  "kernelspec": {
   "display_name": "Python 3",
   "language": "python",
   "name": "python3"
  },
  "language_info": {
   "codemirror_mode": {
    "name": "ipython",
    "version": 3
   },
   "file_extension": ".py",
   "mimetype": "text/x-python",
   "name": "python",
   "nbconvert_exporter": "python",
   "pygments_lexer": "ipython3",
   "version": "3.7.1"
  }
 },
 "nbformat": 4,
 "nbformat_minor": 2
}
